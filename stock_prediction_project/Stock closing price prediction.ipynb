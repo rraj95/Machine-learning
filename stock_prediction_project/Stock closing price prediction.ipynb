{
 "cells": [
  {
   "cell_type": "markdown",
   "id": "9a128c74",
   "metadata": {},
   "source": [
    "# Predicting stock closing price"
   ]
  },
  {
   "cell_type": "markdown",
   "id": "74a05eb7",
   "metadata": {},
   "source": [
    "# Importing libraries"
   ]
  },
  {
   "cell_type": "code",
   "execution_count": 1,
   "id": "30807778",
   "metadata": {},
   "outputs": [],
   "source": [
    "import os\n",
    "import pandas as pd\n",
    "import numpy as np\n",
    "import matplotlib.pyplot as plt\n",
    "import datetime\n",
    "from sklearn.preprocessing import MinMaxScaler"
   ]
  },
  {
   "cell_type": "markdown",
   "id": "b5ea7878",
   "metadata": {},
   "source": [
    "# Reading and exploring data file"
   ]
  },
  {
   "cell_type": "code",
   "execution_count": 2,
   "id": "c2a472ae",
   "metadata": {},
   "outputs": [
    {
     "data": {
      "text/html": [
       "<div>\n",
       "<style scoped>\n",
       "    .dataframe tbody tr th:only-of-type {\n",
       "        vertical-align: middle;\n",
       "    }\n",
       "\n",
       "    .dataframe tbody tr th {\n",
       "        vertical-align: top;\n",
       "    }\n",
       "\n",
       "    .dataframe thead th {\n",
       "        text-align: right;\n",
       "    }\n",
       "</style>\n",
       "<table border=\"1\" class=\"dataframe\">\n",
       "  <thead>\n",
       "    <tr style=\"text-align: right;\">\n",
       "      <th></th>\n",
       "      <th>Date</th>\n",
       "      <th>Open</th>\n",
       "      <th>High</th>\n",
       "      <th>Low</th>\n",
       "      <th>Close</th>\n",
       "      <th>Adj Close</th>\n",
       "      <th>Volume</th>\n",
       "    </tr>\n",
       "  </thead>\n",
       "  <tbody>\n",
       "    <tr>\n",
       "      <th>0</th>\n",
       "      <td>2008-01-14</td>\n",
       "      <td>20.230000</td>\n",
       "      <td>21.040001</td>\n",
       "      <td>20.100000</td>\n",
       "      <td>20.850000</td>\n",
       "      <td>20.850000</td>\n",
       "      <td>7800</td>\n",
       "    </tr>\n",
       "    <tr>\n",
       "      <th>1</th>\n",
       "      <td>2008-01-21</td>\n",
       "      <td>22.000000</td>\n",
       "      <td>22.940001</td>\n",
       "      <td>21.040001</td>\n",
       "      <td>21.040001</td>\n",
       "      <td>21.040001</td>\n",
       "      <td>24300</td>\n",
       "    </tr>\n",
       "    <tr>\n",
       "      <th>2</th>\n",
       "      <td>2008-01-28</td>\n",
       "      <td>21.040001</td>\n",
       "      <td>21.299999</td>\n",
       "      <td>20.160000</td>\n",
       "      <td>21.299999</td>\n",
       "      <td>21.299999</td>\n",
       "      <td>1700</td>\n",
       "    </tr>\n",
       "    <tr>\n",
       "      <th>3</th>\n",
       "      <td>2008-02-04</td>\n",
       "      <td>21.080000</td>\n",
       "      <td>21.250000</td>\n",
       "      <td>18.900000</td>\n",
       "      <td>19.270000</td>\n",
       "      <td>19.270000</td>\n",
       "      <td>7000</td>\n",
       "    </tr>\n",
       "    <tr>\n",
       "      <th>4</th>\n",
       "      <td>2008-02-11</td>\n",
       "      <td>18.120001</td>\n",
       "      <td>18.570000</td>\n",
       "      <td>16.799999</td>\n",
       "      <td>17.459999</td>\n",
       "      <td>17.459999</td>\n",
       "      <td>59300</td>\n",
       "    </tr>\n",
       "  </tbody>\n",
       "</table>\n",
       "</div>"
      ],
      "text/plain": [
       "         Date       Open       High        Low      Close  Adj Close  Volume\n",
       "0  2008-01-14  20.230000  21.040001  20.100000  20.850000  20.850000    7800\n",
       "1  2008-01-21  22.000000  22.940001  21.040001  21.040001  21.040001   24300\n",
       "2  2008-01-28  21.040001  21.299999  20.160000  21.299999  21.299999    1700\n",
       "3  2008-02-04  21.080000  21.250000  18.900000  19.270000  19.270000    7000\n",
       "4  2008-02-11  18.120001  18.570000  16.799999  17.459999  17.459999   59300"
      ]
     },
     "execution_count": 2,
     "metadata": {},
     "output_type": "execute_result"
    }
   ],
   "source": [
    "file = pd.read_csv('HND.TO (1).csv')\n",
    "file.head()"
   ]
  },
  {
   "cell_type": "code",
   "execution_count": 3,
   "id": "a632142f",
   "metadata": {},
   "outputs": [
    {
     "name": "stdout",
     "output_type": "stream",
     "text": [
      "<class 'pandas.core.frame.DataFrame'>\n",
      "RangeIndex: 754 entries, 0 to 753\n",
      "Data columns (total 7 columns):\n",
      " #   Column     Non-Null Count  Dtype  \n",
      "---  ------     --------------  -----  \n",
      " 0   Date       754 non-null    object \n",
      " 1   Open       754 non-null    float64\n",
      " 2   High       754 non-null    float64\n",
      " 3   Low        754 non-null    float64\n",
      " 4   Close      754 non-null    float64\n",
      " 5   Adj Close  754 non-null    float64\n",
      " 6   Volume     754 non-null    int64  \n",
      "dtypes: float64(5), int64(1), object(1)\n",
      "memory usage: 41.4+ KB\n"
     ]
    }
   ],
   "source": [
    "file.info()"
   ]
  },
  {
   "cell_type": "code",
   "execution_count": 4,
   "id": "a6ed24f0",
   "metadata": {},
   "outputs": [
    {
     "data": {
      "text/html": [
       "<div>\n",
       "<style scoped>\n",
       "    .dataframe tbody tr th:only-of-type {\n",
       "        vertical-align: middle;\n",
       "    }\n",
       "\n",
       "    .dataframe tbody tr th {\n",
       "        vertical-align: top;\n",
       "    }\n",
       "\n",
       "    .dataframe thead th {\n",
       "        text-align: right;\n",
       "    }\n",
       "</style>\n",
       "<table border=\"1\" class=\"dataframe\">\n",
       "  <thead>\n",
       "    <tr style=\"text-align: right;\">\n",
       "      <th></th>\n",
       "      <th>Open</th>\n",
       "      <th>High</th>\n",
       "      <th>Low</th>\n",
       "      <th>Close</th>\n",
       "      <th>Adj Close</th>\n",
       "      <th>Volume</th>\n",
       "    </tr>\n",
       "  </thead>\n",
       "  <tbody>\n",
       "    <tr>\n",
       "      <th>count</th>\n",
       "      <td>754.000000</td>\n",
       "      <td>754.000000</td>\n",
       "      <td>754.000000</td>\n",
       "      <td>754.000000</td>\n",
       "      <td>754.000000</td>\n",
       "      <td>7.540000e+02</td>\n",
       "    </tr>\n",
       "    <tr>\n",
       "      <th>mean</th>\n",
       "      <td>103.741950</td>\n",
       "      <td>111.228568</td>\n",
       "      <td>95.929098</td>\n",
       "      <td>103.669722</td>\n",
       "      <td>103.669722</td>\n",
       "      <td>1.410238e+06</td>\n",
       "    </tr>\n",
       "    <tr>\n",
       "      <th>std</th>\n",
       "      <td>66.469067</td>\n",
       "      <td>71.393813</td>\n",
       "      <td>60.717148</td>\n",
       "      <td>66.442255</td>\n",
       "      <td>66.442255</td>\n",
       "      <td>3.760125e+06</td>\n",
       "    </tr>\n",
       "    <tr>\n",
       "      <th>min</th>\n",
       "      <td>2.020000</td>\n",
       "      <td>2.500000</td>\n",
       "      <td>1.780000</td>\n",
       "      <td>2.120000</td>\n",
       "      <td>2.120000</td>\n",
       "      <td>1.700000e+03</td>\n",
       "    </tr>\n",
       "    <tr>\n",
       "      <th>25%</th>\n",
       "      <td>61.700001</td>\n",
       "      <td>66.500002</td>\n",
       "      <td>56.525002</td>\n",
       "      <td>61.325000</td>\n",
       "      <td>61.325000</td>\n",
       "      <td>3.326025e+05</td>\n",
       "    </tr>\n",
       "    <tr>\n",
       "      <th>50%</th>\n",
       "      <td>97.699997</td>\n",
       "      <td>103.250000</td>\n",
       "      <td>90.149997</td>\n",
       "      <td>96.799999</td>\n",
       "      <td>96.799999</td>\n",
       "      <td>6.016050e+05</td>\n",
       "    </tr>\n",
       "    <tr>\n",
       "      <th>75%</th>\n",
       "      <td>132.000000</td>\n",
       "      <td>140.550003</td>\n",
       "      <td>124.124998</td>\n",
       "      <td>131.725002</td>\n",
       "      <td>131.725002</td>\n",
       "      <td>1.152172e+06</td>\n",
       "    </tr>\n",
       "    <tr>\n",
       "      <th>max</th>\n",
       "      <td>476.100006</td>\n",
       "      <td>500.299988</td>\n",
       "      <td>440.899994</td>\n",
       "      <td>490.399994</td>\n",
       "      <td>490.399994</td>\n",
       "      <td>4.985260e+07</td>\n",
       "    </tr>\n",
       "  </tbody>\n",
       "</table>\n",
       "</div>"
      ],
      "text/plain": [
       "             Open        High         Low       Close   Adj Close  \\\n",
       "count  754.000000  754.000000  754.000000  754.000000  754.000000   \n",
       "mean   103.741950  111.228568   95.929098  103.669722  103.669722   \n",
       "std     66.469067   71.393813   60.717148   66.442255   66.442255   \n",
       "min      2.020000    2.500000    1.780000    2.120000    2.120000   \n",
       "25%     61.700001   66.500002   56.525002   61.325000   61.325000   \n",
       "50%     97.699997  103.250000   90.149997   96.799999   96.799999   \n",
       "75%    132.000000  140.550003  124.124998  131.725002  131.725002   \n",
       "max    476.100006  500.299988  440.899994  490.399994  490.399994   \n",
       "\n",
       "             Volume  \n",
       "count  7.540000e+02  \n",
       "mean   1.410238e+06  \n",
       "std    3.760125e+06  \n",
       "min    1.700000e+03  \n",
       "25%    3.326025e+05  \n",
       "50%    6.016050e+05  \n",
       "75%    1.152172e+06  \n",
       "max    4.985260e+07  "
      ]
     },
     "execution_count": 4,
     "metadata": {},
     "output_type": "execute_result"
    }
   ],
   "source": [
    "file.describe()"
   ]
  },
  {
   "cell_type": "markdown",
   "id": "15760db8",
   "metadata": {},
   "source": [
    "# Data visualization!"
   ]
  },
  {
   "cell_type": "code",
   "execution_count": 5,
   "id": "f75c7077",
   "metadata": {},
   "outputs": [
    {
     "data": {
      "image/png": "[encoded data removed]",
      "text/plain": [
       "<Figure size 500x300 with 1 Axes>"
      ]
     },
     "metadata": {
      "needs_background": "light"
     },
     "output_type": "display_data"
    }
   ],
   "source": [
    "plt.figure(figsize=(5,3), dpi=100)\n",
    "\n",
    "plt.plot(file['Close'], label = 'Closing price')\n",
    "\n",
    "plt.xlabel('X axis', fontdict={'fontname':'Times New Roman', 'fontsize': 12})\n",
    "plt.ylabel('Y axis', fontdict={'fontname':'Times New Roman', 'fontsize': 12})\n",
    "\n",
    "plt.xticks(fontsize= 10, fontname = 'Times New Roman')\n",
    "plt.yticks(fontsize= 10, fontname = 'Times New Roman')\n",
    "plt.legend(fontsize= 40, prop={'family': 'Times New Roman'})\n",
    "\n",
    "plt.xlim(0,800)\n",
    "plt.ylim(0,500)\n",
    "\n",
    "plt.show()"
   ]
  },
  {
   "cell_type": "markdown",
   "id": "ffdb7428",
   "metadata": {},
   "source": [
    "# Data pre processing!"
   ]
  },
  {
   "cell_type": "code",
   "execution_count": 6,
   "id": "b346adde",
   "metadata": {},
   "outputs": [
    {
     "data": {
      "text/html": [
       "<div>\n",
       "<style scoped>\n",
       "    .dataframe tbody tr th:only-of-type {\n",
       "        vertical-align: middle;\n",
       "    }\n",
       "\n",
       "    .dataframe tbody tr th {\n",
       "        vertical-align: top;\n",
       "    }\n",
       "\n",
       "    .dataframe thead th {\n",
       "        text-align: right;\n",
       "    }\n",
       "</style>\n",
       "<table border=\"1\" class=\"dataframe\">\n",
       "  <thead>\n",
       "    <tr style=\"text-align: right;\">\n",
       "      <th></th>\n",
       "      <th>Date</th>\n",
       "      <th>Open</th>\n",
       "      <th>High</th>\n",
       "      <th>Low</th>\n",
       "      <th>Close</th>\n",
       "      <th>Adj Close</th>\n",
       "      <th>Volume</th>\n",
       "      <th>rollingmean</th>\n",
       "    </tr>\n",
       "  </thead>\n",
       "  <tbody>\n",
       "    <tr>\n",
       "      <th>0</th>\n",
       "      <td>2008-01-14</td>\n",
       "      <td>20.230000</td>\n",
       "      <td>21.040001</td>\n",
       "      <td>20.100000</td>\n",
       "      <td>20.850000</td>\n",
       "      <td>20.850000</td>\n",
       "      <td>7800</td>\n",
       "      <td>NaN</td>\n",
       "    </tr>\n",
       "    <tr>\n",
       "      <th>1</th>\n",
       "      <td>2008-01-21</td>\n",
       "      <td>22.000000</td>\n",
       "      <td>22.940001</td>\n",
       "      <td>21.040001</td>\n",
       "      <td>21.040001</td>\n",
       "      <td>21.040001</td>\n",
       "      <td>24300</td>\n",
       "      <td>NaN</td>\n",
       "    </tr>\n",
       "    <tr>\n",
       "      <th>2</th>\n",
       "      <td>2008-01-28</td>\n",
       "      <td>21.040001</td>\n",
       "      <td>21.299999</td>\n",
       "      <td>20.160000</td>\n",
       "      <td>21.299999</td>\n",
       "      <td>21.299999</td>\n",
       "      <td>1700</td>\n",
       "      <td>NaN</td>\n",
       "    </tr>\n",
       "    <tr>\n",
       "      <th>3</th>\n",
       "      <td>2008-02-04</td>\n",
       "      <td>21.080000</td>\n",
       "      <td>21.250000</td>\n",
       "      <td>18.900000</td>\n",
       "      <td>19.270000</td>\n",
       "      <td>19.270000</td>\n",
       "      <td>7000</td>\n",
       "      <td>NaN</td>\n",
       "    </tr>\n",
       "    <tr>\n",
       "      <th>4</th>\n",
       "      <td>2008-02-11</td>\n",
       "      <td>18.120001</td>\n",
       "      <td>18.570000</td>\n",
       "      <td>16.799999</td>\n",
       "      <td>17.459999</td>\n",
       "      <td>17.459999</td>\n",
       "      <td>59300</td>\n",
       "      <td>NaN</td>\n",
       "    </tr>\n",
       "    <tr>\n",
       "      <th>5</th>\n",
       "      <td>2008-02-18</td>\n",
       "      <td>16.309999</td>\n",
       "      <td>16.700001</td>\n",
       "      <td>15.160000</td>\n",
       "      <td>15.170000</td>\n",
       "      <td>15.170000</td>\n",
       "      <td>102800</td>\n",
       "      <td>NaN</td>\n",
       "    </tr>\n",
       "    <tr>\n",
       "      <th>6</th>\n",
       "      <td>2008-02-25</td>\n",
       "      <td>15.000000</td>\n",
       "      <td>15.850000</td>\n",
       "      <td>14.250000</td>\n",
       "      <td>14.550000</td>\n",
       "      <td>14.550000</td>\n",
       "      <td>219000</td>\n",
       "      <td>18.520000</td>\n",
       "    </tr>\n",
       "    <tr>\n",
       "      <th>7</th>\n",
       "      <td>2008-03-03</td>\n",
       "      <td>14.500000</td>\n",
       "      <td>14.870000</td>\n",
       "      <td>12.720000</td>\n",
       "      <td>13.310000</td>\n",
       "      <td>13.310000</td>\n",
       "      <td>238200</td>\n",
       "      <td>17.442857</td>\n",
       "    </tr>\n",
       "    <tr>\n",
       "      <th>8</th>\n",
       "      <td>2008-03-10</td>\n",
       "      <td>13.530000</td>\n",
       "      <td>13.700000</td>\n",
       "      <td>11.990000</td>\n",
       "      <td>13.010000</td>\n",
       "      <td>13.010000</td>\n",
       "      <td>191300</td>\n",
       "      <td>16.295714</td>\n",
       "    </tr>\n",
       "    <tr>\n",
       "      <th>9</th>\n",
       "      <td>2008-03-17</td>\n",
       "      <td>13.510000</td>\n",
       "      <td>16.059999</td>\n",
       "      <td>13.110000</td>\n",
       "      <td>15.000000</td>\n",
       "      <td>15.000000</td>\n",
       "      <td>244700</td>\n",
       "      <td>15.395714</td>\n",
       "    </tr>\n",
       "  </tbody>\n",
       "</table>\n",
       "</div>"
      ],
      "text/plain": [
       "         Date       Open       High        Low      Close  Adj Close  Volume  \\\n",
       "0  2008-01-14  20.230000  21.040001  20.100000  20.850000  20.850000    7800   \n",
       "1  2008-01-21  22.000000  22.940001  21.040001  21.040001  21.040001   24300   \n",
       "2  2008-01-28  21.040001  21.299999  20.160000  21.299999  21.299999    1700   \n",
       "3  2008-02-04  21.080000  21.250000  18.900000  19.270000  19.270000    7000   \n",
       "4  2008-02-11  18.120001  18.570000  16.799999  17.459999  17.459999   59300   \n",
       "5  2008-02-18  16.309999  16.700001  15.160000  15.170000  15.170000  102800   \n",
       "6  2008-02-25  15.000000  15.850000  14.250000  14.550000  14.550000  219000   \n",
       "7  2008-03-03  14.500000  14.870000  12.720000  13.310000  13.310000  238200   \n",
       "8  2008-03-10  13.530000  13.700000  11.990000  13.010000  13.010000  191300   \n",
       "9  2008-03-17  13.510000  16.059999  13.110000  15.000000  15.000000  244700   \n",
       "\n",
       "   rollingmean  \n",
       "0          NaN  \n",
       "1          NaN  \n",
       "2          NaN  \n",
       "3          NaN  \n",
       "4          NaN  \n",
       "5          NaN  \n",
       "6    18.520000  \n",
       "7    17.442857  \n",
       "8    16.295714  \n",
       "9    15.395714  "
      ]
     },
     "execution_count": 6,
     "metadata": {},
     "output_type": "execute_result"
    }
   ],
   "source": [
    "file['rollingmean'] = file['Close'].rolling(7).mean()\n",
    "file.head(10)"
   ]
  },
  {
   "cell_type": "code",
   "execution_count": 7,
   "id": "d7de18ef",
   "metadata": {},
   "outputs": [
    {
     "data": {
      "image/png": "[encoded data removed]",
      "text/plain": [
       "<Figure size 500x300 with 1 Axes>"
      ]
     },
     "metadata": {
      "needs_background": "light"
     },
     "output_type": "display_data"
    }
   ],
   "source": [
    "plt.figure(figsize=(5,3), dpi=100)\n",
    "plt.plot(file['rollingmean'], '--', label = 'Rolling mean')\n",
    "plt.plot(file['Close'], label = 'Close')\n",
    "plt.xlabel('t', fontdict={'fontname':'Times New Roman', 'fontsize': 12})\n",
    "plt.ylabel('CAD', fontdict={'fontname':'Times New Roman', 'fontsize': 12})\n",
    "plt.xticks(fontsize= 10, fontname = 'Times New Roman')\n",
    "plt.yticks(fontsize= 10, fontname = 'Times New Roman')\n",
    "plt.legend(loc='best', shadow = True, fontsize= 10, prop={'family': 'Times New Roman'})\n",
    "plt.show()"
   ]
  },
  {
   "cell_type": "markdown",
   "id": "3c315d8b",
   "metadata": {},
   "source": [
    "# Data prep for training!"
   ]
  },
  {
   "cell_type": "code",
   "execution_count": 8,
   "id": "7acdb2ca",
   "metadata": {},
   "outputs": [],
   "source": [
    "X = pd.DataFrame(file['rollingmean'][7:])"
   ]
  },
  {
   "cell_type": "code",
   "execution_count": 9,
   "id": "7e448f21",
   "metadata": {},
   "outputs": [],
   "source": [
    "sc = MinMaxScaler(feature_range=(0, 1))\n",
    "X_scaled = sc.fit_transform(X)"
   ]
  },
  {
   "cell_type": "code",
   "execution_count": 10,
   "id": "e208caa7",
   "metadata": {},
   "outputs": [],
   "source": [
    "X_train = []\n",
    "y_train = []\n",
    "for i in range(60, 600):\n",
    "    X_train.append(X_scaled[i-60:i, 0])\n",
    "    y_train.append(X_scaled[i, 0])\n",
    "\n",
    "X_train, y_train = np.array(X_train), np.array(y_train)\n",
    "X_train = np.reshape(X_train, (X_train.shape[0], X_train.shape[1], 1))"
   ]
  },
  {
   "cell_type": "markdown",
   "id": "0023bf39",
   "metadata": {},
   "source": [
    "# Model training"
   ]
  },
  {
   "cell_type": "code",
   "execution_count": 11,
   "id": "a1481b7f",
   "metadata": {},
   "outputs": [],
   "source": [
    "from keras.models import Sequential\n",
    "from keras.layers import Dense\n",
    "from keras.layers import LSTM\n",
    "from keras.layers import Dropout"
   ]
  },
  {
   "cell_type": "code",
   "execution_count": 12,
   "id": "c6636c0d",
   "metadata": {},
   "outputs": [],
   "source": [
    "regressor = Sequential()"
   ]
  },
  {
   "cell_type": "code",
   "execution_count": 13,
   "id": "c0a08bba",
   "metadata": {},
   "outputs": [],
   "source": [
    "regressor.add(LSTM(units = 25, return_sequences = True, \n",
    "                   input_shape = (X_train.shape[1], 1)))\n",
    "regressor.add(Dropout(0.2))\n",
    "\n",
    "regressor.add(LSTM(units = 25, return_sequences = True))\n",
    "regressor.add(Dropout(0.2))\n",
    "\n",
    "regressor.add(LSTM(units = 25, return_sequences = True))\n",
    "regressor.add(Dropout(0.2))\n",
    "\n",
    "regressor.add(LSTM(units = 25))\n",
    "regressor.add(Dropout(0.2))\n",
    "\n",
    "regressor.add(Dense(units = 1))"
   ]
  },
  {
   "cell_type": "code",
   "execution_count": 14,
   "id": "da680f76",
   "metadata": {},
   "outputs": [
    {
     "name": "stdout",
     "output_type": "stream",
     "text": [
      "Epoch 1/50\n",
      "34/34 [==============================] - 9s 52ms/step - loss: 0.0245\n",
      "Epoch 2/50\n",
      "34/34 [==============================] - 2s 52ms/step - loss: 0.0147\n",
      "Epoch 3/50\n",
      "34/34 [==============================] - 2s 51ms/step - loss: 0.0115\n",
      "Epoch 4/50\n",
      "34/34 [==============================] - 2s 52ms/step - loss: 0.0100\n",
      "Epoch 5/50\n",
      "34/34 [==============================] - 2s 56ms/step - loss: 0.0071\n",
      "Epoch 6/50\n",
      "34/34 [==============================] - 2s 64ms/step - loss: 0.0081\n",
      "Epoch 7/50\n",
      "34/34 [==============================] - 3s 76ms/step - loss: 0.0068\n",
      "Epoch 8/50\n",
      "34/34 [==============================] - 3s 77ms/step - loss: 0.0063\n",
      "Epoch 9/50\n",
      "34/34 [==============================] - 3s 77ms/step - loss: 0.0063\n",
      "Epoch 10/50\n",
      "34/34 [==============================] - 3s 77ms/step - loss: 0.0060\n",
      "Epoch 11/50\n",
      "34/34 [==============================] - 3s 77ms/step - loss: 0.0052\n",
      "Epoch 12/50\n",
      "34/34 [==============================] - 3s 76ms/step - loss: 0.0056\n",
      "Epoch 13/50\n",
      "34/34 [==============================] - 3s 77ms/step - loss: 0.0046\n",
      "Epoch 14/50\n",
      "34/34 [==============================] - 3s 77ms/step - loss: 0.0055\n",
      "Epoch 15/50\n",
      "34/34 [==============================] - 3s 76ms/step - loss: 0.0048\n",
      "Epoch 16/50\n",
      "34/34 [==============================] - 3s 77ms/step - loss: 0.0047\n",
      "Epoch 17/50\n",
      "34/34 [==============================] - 3s 76ms/step - loss: 0.0047\n",
      "Epoch 18/50\n",
      "34/34 [==============================] - 3s 76ms/step - loss: 0.0037\n",
      "Epoch 19/50\n",
      "34/34 [==============================] - 3s 76ms/step - loss: 0.0046\n",
      "Epoch 20/50\n",
      "34/34 [==============================] - 3s 76ms/step - loss: 0.0049\n",
      "Epoch 21/50\n",
      "34/34 [==============================] - 3s 77ms/step - loss: 0.0044\n",
      "Epoch 22/50\n",
      "34/34 [==============================] - 3s 77ms/step - loss: 0.0037\n",
      "Epoch 23/50\n",
      "34/34 [==============================] - 3s 77ms/step - loss: 0.0035\n",
      "Epoch 24/50\n",
      "34/34 [==============================] - 3s 76ms/step - loss: 0.0044\n",
      "Epoch 25/50\n",
      "34/34 [==============================] - 3s 77ms/step - loss: 0.0044\n",
      "Epoch 26/50\n",
      "34/34 [==============================] - 3s 76ms/step - loss: 0.0048\n",
      "Epoch 27/50\n",
      "34/34 [==============================] - 3s 77ms/step - loss: 0.0037\n",
      "Epoch 28/50\n",
      "34/34 [==============================] - 3s 77ms/step - loss: 0.0038\n",
      "Epoch 29/50\n",
      "34/34 [==============================] - 3s 77ms/step - loss: 0.0033\n",
      "Epoch 30/50\n",
      "34/34 [==============================] - 3s 76ms/step - loss: 0.0033\n",
      "Epoch 31/50\n",
      "34/34 [==============================] - 3s 77ms/step - loss: 0.0029\n",
      "Epoch 32/50\n",
      "34/34 [==============================] - 3s 77ms/step - loss: 0.0033\n",
      "Epoch 33/50\n",
      "34/34 [==============================] - 3s 77ms/step - loss: 0.0032\n",
      "Epoch 34/50\n",
      "34/34 [==============================] - 3s 78ms/step - loss: 0.0037\n",
      "Epoch 35/50\n",
      "34/34 [==============================] - 3s 78ms/step - loss: 0.0033\n",
      "Epoch 36/50\n",
      "34/34 [==============================] - 3s 77ms/step - loss: 0.0029\n",
      "Epoch 37/50\n",
      "34/34 [==============================] - 3s 78ms/step - loss: 0.0029\n",
      "Epoch 38/50\n",
      "34/34 [==============================] - 3s 78ms/step - loss: 0.0028\n",
      "Epoch 39/50\n",
      "34/34 [==============================] - 3s 77ms/step - loss: 0.0029\n",
      "Epoch 40/50\n",
      "34/34 [==============================] - 3s 79ms/step - loss: 0.0027\n",
      "Epoch 41/50\n",
      "34/34 [==============================] - 3s 78ms/step - loss: 0.0030\n",
      "Epoch 42/50\n",
      "34/34 [==============================] - 3s 77ms/step - loss: 0.0029\n",
      "Epoch 43/50\n",
      "34/34 [==============================] - 3s 78ms/step - loss: 0.0023\n",
      "Epoch 44/50\n",
      "34/34 [==============================] - 3s 78ms/step - loss: 0.0022\n",
      "Epoch 45/50\n",
      "34/34 [==============================] - 3s 77ms/step - loss: 0.0023\n",
      "Epoch 46/50\n",
      "34/34 [==============================] - 3s 77ms/step - loss: 0.0023\n",
      "Epoch 47/50\n",
      "34/34 [==============================] - 3s 78ms/step - loss: 0.0021\n",
      "Epoch 48/50\n",
      "34/34 [==============================] - 3s 77ms/step - loss: 0.0022\n",
      "Epoch 49/50\n",
      "34/34 [==============================] - 3s 77ms/step - loss: 0.0023\n",
      "Epoch 50/50\n",
      "34/34 [==============================] - 3s 76ms/step - loss: 0.0023\n"
     ]
    },
    {
     "data": {
      "text/plain": [
       "<keras.callbacks.History at 0x1e18ae89940>"
      ]
     },
     "execution_count": 14,
     "metadata": {},
     "output_type": "execute_result"
    }
   ],
   "source": [
    "regressor.compile(optimizer = 'adam', loss = 'mean_squared_error')\n",
    "\n",
    "regressor.fit(X_train, y_train, epochs = 50, batch_size = 16)"
   ]
  },
  {
   "cell_type": "markdown",
   "id": "c8e14a66",
   "metadata": {},
   "source": [
    "# Model testing"
   ]
  },
  {
   "cell_type": "code",
   "execution_count": 15,
   "id": "70b62a82",
   "metadata": {},
   "outputs": [
    {
     "name": "stdout",
     "output_type": "stream",
     "text": [
      "2/2 [==============================] - 2s 31ms/step\n"
     ]
    }
   ],
   "source": [
    "X_test = []\n",
    "for i in range(660, 720):\n",
    "    X_test.append(X_scaled[i-60:i, 0])\n",
    "X_test = np.array(X_test)\n",
    "X_test = np.reshape(X_test, (X_test.shape[0], X_test.shape[1], 1))\n",
    "predicted_stock_price = regressor.predict(X_test)\n",
    "psp = sc.inverse_transform(predicted_stock_price)"
   ]
  },
  {
   "cell_type": "code",
   "execution_count": 16,
   "id": "0677c33d",
   "metadata": {},
   "outputs": [],
   "source": [
    "y_test = np.array(file['rollingmean'][659:719])"
   ]
  },
  {
   "cell_type": "code",
   "execution_count": 17,
   "id": "0513f31b",
   "metadata": {},
   "outputs": [
    {
     "data": {
      "image/png": "[encoded data removed]",
      "text/plain": [
       "<Figure size 500x300 with 1 Axes>"
      ]
     },
     "metadata": {
      "needs_background": "light"
     },
     "output_type": "display_data"
    }
   ],
   "source": [
    "plt.figure(figsize=(5,3), dpi=100)\n",
    "\n",
    "plt.plot(psp, '--', label = 'predicted')\n",
    "plt.plot(y_test, label = 'actual close')\n",
    "\n",
    "plt.xlabel('t', fontdict={'fontname':'Times New Roman', 'fontsize': 12})\n",
    "plt.ylabel('CAD', fontdict={'fontname':'Times New Roman', 'fontsize': 12})\n",
    "\n",
    "plt.xticks(fontsize= 10, fontname = 'Times New Roman')\n",
    "plt.yticks(fontsize= 10, fontname = 'Times New Roman')\n",
    "\n",
    "plt.legend(loc='best', shadow = True, fontsize= 10, prop={'family': 'Times New Roman'})\n",
    "\n",
    "plt.show()"
   ]
  },
  {
   "cell_type": "code",
   "execution_count": null,
   "id": "46906f55",
   "metadata": {},
   "outputs": [],
   "source": []
  }
 ],
 "metadata": {
  "kernelspec": {
   "display_name": "Python 3 (ipykernel)",
   "language": "python",
   "name": "python3"
  },
  "language_info": {
   "codemirror_mode": {
    "name": "ipython",
    "version": 3
   },
   "file_extension": ".py",
   "mimetype": "text/x-python",
   "name": "python",
   "nbconvert_exporter": "python",
   "pygments_lexer": "ipython3",
   "version": "3.9.7"
  }
 },
 "nbformat": 4,
 "nbformat_minor": 5
}
